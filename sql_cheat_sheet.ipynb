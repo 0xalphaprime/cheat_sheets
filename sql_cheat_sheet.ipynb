{
 "cells": [
  {
   "cell_type": "markdown",
   "metadata": {},
   "source": [
    "# SQL CHEAT SHEET"
   ]
  },
  {
   "cell_type": "markdown",
   "metadata": {},
   "source": [
    "### **How to access CLI for locally managed databases with Postres Client on Mac**\n",
    "\n",
    "![PostgreSQL CLI Client Mac](/Users/hiro0x/Documents/alphaprime/cheat_sheets/screenshots/psql_cli_local_mac.png)"
   ]
  },
  {
   "cell_type": "markdown",
   "metadata": {},
   "source": [
    "### **Screenshot of a useful extension I've been using for databases. I have postgres locally managed.**\n",
    "\n",
    "[PostgreSQL Database Client Extension Link](https://database-client.com/#/)\n",
    "\n",
    "For Interactive Local Mode - STOCKS -  u: postgres db: test\n",
    "\n",
    "For Interactive Local Mode - BASEBALL - u: postgres db: baseball"
   ]
  },
  {
   "cell_type": "markdown",
   "metadata": {},
   "source": [
    "![postgreSQL VS Code Extrension Screenshot](/Users/hiro0x/Documents/alphaprime/cheat_sheets/screenshots/vscode_psql_extension_screenshot.png)"
   ]
  },
  {
   "cell_type": "markdown",
   "metadata": {},
   "source": [
    "## **Queries**\n",
    "\n",
    "`SELECT` is used every time you want to query data from a database and `*` means all columns\n",
    "\n",
    "All SQL actions must end with `;`"
   ]
  },
  {
   "cell_type": "code",
   "execution_count": null,
   "metadata": {
    "vscode": {
     "languageId": "sql"
    }
   },
   "outputs": [],
   "source": [
    "SELECT * \n",
    "FROM stocks;\n",
    "\n",
    "SELECT symbol, marketcap\n",
    "FROM stocks;"
   ]
  },
  {
   "cell_type": "markdown",
   "metadata": {},
   "source": [
    "`AS` is a keyword allowing you to rename a column:"
   ]
  },
  {
   "cell_type": "code",
   "execution_count": null,
   "metadata": {
    "vscode": {
     "languageId": "sql"
    }
   },
   "outputs": [],
   "source": [
    "-- example - no table for executing locally\n",
    "\n",
    "SELECT movie_title as 'Title'\n",
    "FROM movies;"
   ]
  },
  {
   "cell_type": "markdown",
   "metadata": {},
   "source": [
    "`DISTINCT` filters out duplicates, and only includes unique values in the output"
   ]
  },
  {
   "cell_type": "code",
   "execution_count": null,
   "metadata": {
    "vscode": {
     "languageId": "sql"
    }
   },
   "outputs": [],
   "source": [
    "SELECT DISTINCT industry\n",
    "FROM stocks;"
   ]
  },
  {
   "cell_type": "markdown",
   "metadata": {},
   "source": [
    "`WHERE` can be used as a conditional filter \n",
    "\n",
    "`IS NULL` & `IS NOT NULL` are common operators to be used with WHERE "
   ]
  },
  {
   "cell_type": "code",
   "execution_count": null,
   "metadata": {
    "vscode": {
     "languageId": "sql"
    }
   },
   "outputs": [],
   "source": [
    "SELECT * \n",
    "FROM stocks     \n",
    "WHERE marketcap > 1000000000000;\n",
    "\n",
    "SELECT * FROM stocks WHERE sector IS NOT NULL;"
   ]
  },
  {
   "cell_type": "markdown",
   "metadata": {},
   "source": [
    "`LIKE` useful for finding similar values\n",
    "\n",
    "For instance, between the two movies 'Seven' & 'Se7en'\n",
    "\n",
    "% is a wildcard `A%` would match all movies that begin with 'A'\n",
    "\n",
    "`%man%` would return all movies that contained 'man' in the title"
   ]
  },
  {
   "cell_type": "code",
   "execution_count": null,
   "metadata": {
    "vscode": {
     "languageId": "sql"
    }
   },
   "outputs": [],
   "source": [
    "-- examples only, no table for interactive local mode\n",
    "\n",
    "SELECT * \n",
    "FROM movies\n",
    "WHERE name LIKE 'Se_en';\n",
    "\n",
    "SELECT * \n",
    "FROM movies\n",
    "WHERE name LIKE 'A%';\n",
    "\n",
    "SELECT * \n",
    "FROM movies\n",
    "WHERE name LIKE '%man%';"
   ]
  },
  {
   "cell_type": "markdown",
   "metadata": {},
   "source": [
    "`BETWEEN` is an operator used in `WHERE` clause to return a result of a specified range"
   ]
  },
  {
   "cell_type": "code",
   "execution_count": null,
   "metadata": {
    "vscode": {
     "languageId": "sql"
    }
   },
   "outputs": [],
   "source": [
    "SELECT *\n",
    "FROM stocks\n",
    "WHERE marketcap BETWEEN 500000000000 AND 1000000000000;"
   ]
  },
  {
   "cell_type": "markdown",
   "metadata": {},
   "source": [
    "`AND` used to combine multiple conditions\n",
    "\n",
    "`OR` same concept"
   ]
  },
  {
   "cell_type": "code",
   "execution_count": null,
   "metadata": {
    "vscode": {
     "languageId": "sql"
    }
   },
   "outputs": [],
   "source": [
    "SELECT *\n",
    "FROM stocks\n",
    "WHERE marketcap BETWEEN 500000000000 AND 1000000000000\n",
    "   AND sector = 'Healthcare';\n",
    "\n",
    "SELECT *\n",
    "FROM stocks\n",
    "WHERE marketcap BETWEEN 500000000000 AND 1000000000000\n",
    "   AND sector = 'Healthcare'\n",
    "   OR symbol LIKE 'A%';"
   ]
  },
  {
   "cell_type": "markdown",
   "metadata": {},
   "source": [
    "`ORDER BY` operator to sort results\n",
    "\n",
    "`LIMIT` clause to specify max rows to return"
   ]
  },
  {
   "cell_type": "code",
   "execution_count": null,
   "metadata": {
    "vscode": {
     "languageId": "sql"
    }
   },
   "outputs": [],
   "source": [
    "SELECT * FROM stocks LIMIT 10;"
   ]
  },
  {
   "cell_type": "code",
   "execution_count": null,
   "metadata": {
    "vscode": {
     "languageId": "sql"
    }
   },
   "outputs": [],
   "source": [
    "SELECT *\n",
    "FROM stocks\n",
    "WHERE sector = 'Technology'\n",
    "ORDER BY marketcap DESC;"
   ]
  },
  {
   "cell_type": "markdown",
   "metadata": {},
   "source": [
    "A `CASE` statement allows us to create different outputs (usually in the `SELECT` statement). It is SQL’s way of handling if-then logic."
   ]
  },
  {
   "cell_type": "code",
   "execution_count": null,
   "metadata": {
    "vscode": {
     "languageId": "sql"
    }
   },
   "outputs": [],
   "source": [
    "-- examples only, no table for interactive local mode\n",
    "\n",
    "SELECT symbol,\n",
    "  CASE\n",
    "    WHEN genre = 'romance' then 'chill'\n",
    "    WHEN genre = 'comedy' then 'chill'\n",
    "    ELSE 'intense'\n",
    "  END AS 'mood'\n",
    "FROM movies; \n"
   ]
  },
  {
   "cell_type": "markdown",
   "metadata": {},
   "source": [
    "### **RECAP** \n",
    "\n",
    "`SELECT` is the clause we use every time we want to query information from a database.\n",
    "\n",
    "`AS` renames a column or table.\n",
    "\n",
    "`DISTINCT` return unique values.\n",
    "\n",
    "`WHERE` is a popular command that lets you filter the results of the query based on conditions that you specify.\n",
    "\n",
    "`LIKE` and `BETWEEN` are special operators.\n",
    "\n",
    "`AND` and `OR` combines multiple conditions.\n",
    "\n",
    "`ORDER BY` sorts the result.\n",
    "\n",
    "`LIMIT` specifies the maximum number of rows that the query will return.\n",
    "\n",
    "`CASE` creates different outputs."
   ]
  },
  {
   "cell_type": "markdown",
   "metadata": {},
   "source": [
    "## Aggregate Functions \n",
    "\n",
    "`COUNT()` count the number of rows\n",
    "\n",
    "`SUM()` the sum of the values in the column\n",
    "\n",
    "`MAX()` & `MIN()` the largest/smallest value\n",
    "\n",
    "`AVG()` the average of the values in a column \n",
    "\n",
    "`ROUND()` round the values in the column\n",
    "\n",
    "Aggregate functions combine multiple rows together to form a single value of more meaningful information.\n",
    "\n",
    "`GROUP BY` is a clause used with aggregate functions to combine data from one or more columns.\n",
    "\n",
    "`HAVING` - limit the results of a query based on an aggregate property."
   ]
  },
  {
   "cell_type": "code",
   "execution_count": null,
   "metadata": {
    "vscode": {
     "languageId": "sql"
    }
   },
   "outputs": [],
   "source": [
    "SELECT COUNT(*)\n",
    "FROM stocks\n",
    "WHERE sector = 'Energy';\n",
    "\n",
    "\n",
    "SELECT SUM(marketcap)\n",
    "FROM STOCKS symbol\n",
    "WHERE sector = 'Energy';\n",
    "\n",
    "-- weak a*^ energy at 1.72T in 2022... \n",
    "\n",
    "SELECT MAX(marketcap) FROM stocks;\n",
    "\n",
    "SELECT MIN(marketcap) FROM stocks;\n",
    "\n",
    "SELECT AVG(marketcap) FROM stocks;\n",
    "\n",
    "\n",
    "/* \n",
    "ROUND() function takes two arguments inside the parenthesis:\n",
    "\n",
    "a column name\n",
    "an integer\n",
    "*/\n",
    "\n",
    "SELECT symbol, marketcap, COUNT(*)\n",
    "FROM stocks\n",
    "WHERE marketcap > 100000000\n",
    "GROUP BY symbol, marketcap\n",
    "ORDER BY symbol;\n",
    "\n",
    "SELECT "
   ]
  },
  {
   "cell_type": "markdown",
   "metadata": {},
   "source": [
    "## **Multiple Tables**\n",
    "\n",
    "\n",
    "`JOIN` will combine rows from different tables if the join condition is true.\n",
    "\n",
    "`LEFT JOIN` will return every row in the left table, and if the join condition is not met, `NULL` values are used to fill in the columns from the right table.\n",
    "\n",
    "**Primary key** is a column that serves a unique identifier for the rows in the table.\n",
    "\n",
    "**Foreign key** is a column that contains the primary key to another table.\n",
    "\n",
    "`CROSS JOIN` lets us combine all rows of one table with all rows of another table.\n",
    "\n",
    "`UNION` stacks one dataset on top of another.\n",
    "\n",
    "`WITH` allows us to define one or more temporary tables that can be used in the final query."
   ]
  },
  {
   "cell_type": "markdown",
   "metadata": {},
   "source": [
    "![Multiple Tables Overview](/Users/hiro0x/Documents/alphaprime/cheat_sheets/screenshots/codeacademy_multiple_tables.png)"
   ]
  },
  {
   "cell_type": "markdown",
   "metadata": {},
   "source": [
    "#### Inner Join \n",
    "\n",
    "When we perform a simple `JOIN` (often called an inner join) our result only includes rows that match our ON condition.\n",
    "\n",
    "Below is a gif showing how it works, and an example from Code Academy - where the third result reflects unique customers, with both online and newspaper subs.\n",
    "\n",
    "![Inner Join](/Users/hiro0x/Documents/alphaprime/cheat_sheets/screenshots/inner-join.gif)\n",
    "\n",
    "\n",
    "![Inner Join Example](/Users/hiro0x/Documents/alphaprime/cheat_sheets/screenshots/innerjoin_ex.png)\n",
    "\n",
    "\n",
    "![Left Join](/Users/hiro0x/Documents/alphaprime/cheat_sheets/screenshots/left-join.webp)\n",
    "\n",
    "\n",
    "\n",
    "\n",
    "When the **primary key** for one table appears in a different table, it is called a **foreign key**.\n",
    "\n",
    "`CROSS JOIN`  is a pure combining of two tables without an `ON` conditional. (new columns)\n",
    "\n",
    "`UNION`  is appending new rows onto an existing table \n",
    "\n",
    "SQL has strict rules for appending data:\n",
    "- Tables must have the same number of columns.\n",
    "- The columns must have the same data types in the same order as the first table."
   ]
  },
  {
   "cell_type": "code",
   "execution_count": null,
   "metadata": {
    "vscode": {
     "languageId": "sql"
    }
   },
   "outputs": [],
   "source": [
    "/*\n",
    "`WITH` statements allow us two combine two tables, when one of the tables\n",
    "is the results of another calculation/query.\n",
    "*/\n",
    "\n",
    "-- not interactive code\n",
    "\n",
    "WITH previous_query AS (\n",
    "SELECT customer_id,\n",
    "       COUNT(subscription_id) AS 'subscriptions'\n",
    "FROM orders\n",
    "GROUP BY customer_id)\n",
    "SELECT customers.customer_name,\n",
    "previous_query.subscriptions\n",
    "FROM previous_query\n",
    "JOIN customers\n",
    "\tON customers.customer_id = previous_query.customer_id;\n",
    "\n",
    "-- returns a table listing all of the individual customers\n",
    "-- along with their number of subscriptions"
   ]
  },
  {
   "cell_type": "markdown",
   "metadata": {},
   "source": [
    "## MAKE AND POPULATE YOUR OWN DATABASE\n",
    "\n",
    "Databases are made of columns, which are defined by name and data type\n",
    "\n",
    "`CREATE TABLE` is the SQL command. \n",
    "\n",
    "![SQL data types](/Users/hiro0x/Documents/alphaprime/cheat_sheets/screenshots/sql_column_datatypes.png)"
   ]
  },
  {
   "cell_type": "code",
   "execution_count": null,
   "metadata": {
    "vscode": {
     "languageId": "sql"
    }
   },
   "outputs": [],
   "source": [
    "--To insert data into a PostgreSQL table, use this syntax:\n",
    "\n",
    "INSERT INTO table_name VALUES (\n",
    "  column_one_value,\n",
    "  column_two_value,\n",
    "  …\n",
    "  column_N_value\n",
    ");"
   ]
  },
  {
   "cell_type": "markdown",
   "metadata": {},
   "source": [
    "## **DATABASE KEYS**\n",
    "\n",
    "#### Primary Key\n",
    "\n",
    "\n",
    "A **primary key** is a designation that applies to a column or multiple columns of a table that uniquely identifies each row in the table. For example, a Social Security Number\n"
   ]
  },
  {
   "cell_type": "code",
   "execution_count": null,
   "metadata": {
    "vscode": {
     "languageId": "sql"
    }
   },
   "outputs": [],
   "source": [
    "\n",
    "/*\n",
    "CREATE TABLE recipe (\n",
    "  id integer PRIMARY KEY,\n",
    "  name varchar(20),\n",
    "  ...\n",
    ");\n",
    "*/"
   ]
  },
  {
   "cell_type": "markdown",
   "metadata": {},
   "source": [
    "#### Identifying Keys \n",
    "\n",
    "The first executed action returns name of the constraint object `constraint_name`, the `table_name`, and `column_name` of the key column.\n",
    "\n",
    "The second returns only the value for `column_name`.\n",
    "\n",
    "![pic](/Users/hiro0x/Documents/alphaprime/cheat_sheets/screenshots/key_validation.png)\n",
    "\n",
    "\n",
    "#### Composite Primary Key \n",
    "\n",
    "Sometimes, none of the columns in a table can uniquely identify a record. When this happens, we can designate multiple columns in a table to serve as the primary key, also known as a composite primary key."
   ]
  },
  {
   "cell_type": "code",
   "execution_count": null,
   "metadata": {
    "vscode": {
     "languageId": "sql"
    }
   },
   "outputs": [],
   "source": [
    "/*\n",
    "CREATE TABLE popular_recipes (\n",
    "  recipe_id varchar(20),\n",
    "  ingredient_id varchar(20),\n",
    "  downloaded integer,\n",
    "  PRIMARY KEY (recipe_id, ingredient_id)\n",
    ");\n",
    "*/"
   ]
  },
  {
   "cell_type": "markdown",
   "metadata": {},
   "source": [
    "#### Foreign Key\n",
    "\n",
    "Representation of a table's **primary key** in another table - refered to as a **foreign key**.\n",
    "\n",
    "![keys](/Users/hiro0x/Documents/alphaprime/cheat_sheets/screenshots/db_keys.png)"
   ]
  },
  {
   "cell_type": "code",
   "execution_count": null,
   "metadata": {
    "vscode": {
     "languageId": "sql"
    }
   },
   "outputs": [],
   "source": [
    "/*\n",
    "CREATE TABLE person (\n",
    "  id integer PRIMARY KEY,\n",
    "  name varchar(20),\n",
    "  age integer\n",
    ");\n",
    " \n",
    "CREATE TABLE email (\n",
    "  email varchar(20) PRIMARY KEY,\n",
    "  person_id integer REFERENCES person(id),\n",
    "  storage integer,\n",
    "  price money\n",
    ");\n",
    "*/"
   ]
  },
  {
   "cell_type": "markdown",
   "metadata": {},
   "source": [
    "## **Relationships in Databases**\n",
    "\n",
    "#### One-to-One Relationships\n",
    "\n",
    "![one-to-one realtionship overview](/Users/hiro0x/Documents/alphaprime/cheat_sheets/screenshots/one_to_one_relationships.png)\n",
    "\n",
    "\n",
    "\n",
    "#### One-to-Many Relationships\n",
    "\n",
    "\n",
    "\n",
    "#### Many-to-Many Relationships\n",
    "\n",
    "\n"
   ]
  }
 ],
 "metadata": {
  "interpreter": {
   "hash": "aee8b7b246df8f9039afb4144a1f6fd8d2ca17a180786b69acc140d282b71a49"
  },
  "kernelspec": {
   "display_name": "Python 3.10.4 64-bit",
   "language": "python",
   "name": "python3"
  },
  "language_info": {
   "codemirror_mode": {
    "name": "ipython",
    "version": 3
   },
   "file_extension": ".py",
   "mimetype": "text/x-python",
   "name": "python",
   "nbconvert_exporter": "python",
   "pygments_lexer": "ipython3",
   "version": "3.10.4"
  },
  "orig_nbformat": 4
 },
 "nbformat": 4,
 "nbformat_minor": 2
}
