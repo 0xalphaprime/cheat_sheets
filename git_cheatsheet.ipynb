{
 "cells": [
  {
   "cell_type": "markdown",
   "metadata": {},
   "source": [
    "# __GIT & GITHUB__\n",
    "\n",
    "Free and open source version control system.\n",
    "\n",
    "Great video overview I learned and referred to as beginning to work with git/github\n",
    "\n",
    "[FCC - Git & GitHub for Beginners YouTube Link](https://www.youtube.com/watch?v=RGOj5yH7evk&list=PLTg6pNIod3jcBu_Nw2VKeEsu1IZOgQPD4&index=16&t=2306s&ab_channel=freeCodeCamp.org)\n",
    "\n",
    "\n",
    "\n",
    "## __Key Components__ \n",
    "\n",
    "__Repository__ project or file/folder where your project is kept\n",
    "__GITHUB__ is a website to host your repositories online\n",
    "\n",
    "\n",
    "### __Core `git` Commands__\n",
    "\n",
    "`status` - shows any files that have been added, edited, or deleted that have not been committed yet. \n",
    "`add` - command to have git track your files and save your chages to Git\n",
    "`commit` - saves your files to Git \n",
    "`push` - upload Git commits to a remote repo, like Github\n",
    "`pull` - download changes from a remote repo to your remote machine\n",
    "`init` - creates a new git reposity from command line\n",
    "\n",
    "\n",
    "`branch` check out the current branch (such as `main`)\n",
    "`remote` repositories other than the one local on your machine\n",
    "\n",
    "\n",
    "\n",
    "### __SSH into Github__\n",
    "\n",
    "with vs-code we didnt need to creat the ssh connection, as this is managed through the github integration. \n",
    "\n",
    "see linux/networking for more info on  ssh and private keys\n",
    "\n",
    "\n",
    "\n",
    "\n",
    "\n",
    "\n",
    "What is `git remote add ...`?\n",
    "\n",
    "As you probably know, Git is a distributed version control system. Most operations are done locally. To communicate with the outside world, Git uses what are called \"remotes\". These are repositories other than the one on your local disk (`master`) which you can `push` your changes into (so that other people can see them) or `pull` from (so that you can get others changes). The command `git remote add origin git@github.com:peter/first_app.git` creates a new remote called `origin` located at `git@github.com:xxx/yyy.git`. Once you do this, in your push commands, you can push to origin instead of typing out the whole URL.\n",
    "\n",
    "What is git `push origin master`?\n",
    "\n",
    "This is a command that says \"`push` the `commits` in the local `branch` named `master` to the `remote` named `origin`\". Once this is executed, all the stuff that you last synchronised with origin will be sent to the remote repository and other people will be able to see them there.\n",
    "\n",
    "\n",
    "\n",
    "---"
   ]
  },
  {
   "cell_type": "markdown",
   "metadata": {},
   "source": [
    "## __Creating a New Repo Locally__\n",
    "\n",
    "![vscode git cli](/Users/hiro0x/Documents/alphaprime/masterQuest/screenshots/vscode_git_cli.png)\n",
    "![create repo onlime](/Users/hiro0x/Documents/alphaprime/masterQuest/screenshots/create_repo_online.png)\n",
    "![repo after add origin and push master](/Users/hiro0x/Documents/alphaprime/masterQuest/screenshots/repo_after_push.png)\n",
    "\n",
    "---\n",
    "\n",
    "\n",
    "Another alternative, is to create the repo online, and clone it. \n",
    "\n",
    "Before we ran `git init` & later linked our local repo to the `remote` repository on GitHub.\n",
    "\n",
    "To `clone` a repo, we will do a slightly different order. \n",
    "\n",
    "1. The first step is to create a repo on GitHub just as we did before, and copy the same link\n",
    "2. navigate to your terminal - I'm using vscode - and then to the desired directory, where you intend to keep your local repo\n",
    "3. in the directory run `git clone https://github.com/0xalphaprime/test-git.git` to download a copy of the repository locally. \n",
    "4. From here, you will interact with git in the same way"
   ]
  }
 ],
 "metadata": {
  "interpreter": {
   "hash": "aee8b7b246df8f9039afb4144a1f6fd8d2ca17a180786b69acc140d282b71a49"
  },
  "kernelspec": {
   "display_name": "Python 3.10.4 64-bit",
   "language": "python",
   "name": "python3"
  },
  "language_info": {
   "name": "python",
   "version": "3.10.4"
  },
  "orig_nbformat": 4
 },
 "nbformat": 4,
 "nbformat_minor": 2
}
